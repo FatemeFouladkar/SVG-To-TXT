{
  "cells": [
    {
      "cell_type": "markdown",
      "metadata": {
        "id": "view-in-github",
        "colab_type": "text"
      },
      "source": [
        "<a href=\"https://colab.research.google.com/github/FatemeFouladkar/SVG-To-TXT/blob/main/convert_svg_to_txt.ipynb\" target=\"_parent\"><img src=\"https://colab.research.google.com/assets/colab-badge.svg\" alt=\"Open In Colab\"/></a>"
      ]
    },
    {
      "cell_type": "code",
      "source": [
        "!pip install svglib google-cloud-vision"
      ],
      "metadata": {
        "id": "0hRVX5X3Gyu6"
      },
      "execution_count": null,
      "outputs": []
    },
    {
      "cell_type": "code",
      "execution_count": null,
      "metadata": {
        "id": "WXgZmAbtXFAe"
      },
      "outputs": [],
      "source": [
        "import os\n",
        "from google.cloud import vision\n",
        "import io\n",
        "from google.oauth2 import service_account\n",
        "\n",
        "# Add credentials for google cloud API\n",
        "creds = service_account.Credentials.from_service_account_file('key.json')\n",
        "\n",
        "def detect_text(input_file_path, output_file_path):\n",
        "    \"\"\"Detects text in the file.\"\"\"\n",
        "    client = vision.ImageAnnotatorClient(credentials=creds,)\n",
        "\n",
        "    with io.open(input_file_path, 'rb') as image_file:\n",
        "        content = image_file.read()\n",
        "\n",
        "    image = vision.Image(content=content)\n",
        "\n",
        "    response = client.text_detection(image=image)\n",
        "    texts = response.text_annotations\n",
        "    \n",
        "    # Write the result in the output file\n",
        "    with open(output_file_path, \"w\") as output:\n",
        "      output.write(texts[0].description)\n",
        "\n",
        "    if response.error.message:\n",
        "        raise Exception(\n",
        "            '{}\\nFor more info on error messages, check: '\n",
        "            'https://cloud.google.com/apis/design/errors'.format(\n",
        "                response.error.message))"
      ]
    },
    {
      "cell_type": "code",
      "execution_count": null,
      "metadata": {
        "id": "5BJdtIr8ac6b"
      },
      "outputs": [],
      "source": [
        "from svglib.svglib import svg2rlg\n",
        "from reportlab.graphics import renderPM\n",
        "from pathlib import Path\n",
        "\n",
        "def svg_to_txt(input):\n",
        "    \"\"\"Converts SVG to PNG and passes it to Google API.\"\"\"\n",
        "    drawing = svg2rlg(input)\n",
        "    if drawing:\n",
        "      png_file_name = input.split('.')[0] + \".png\"\n",
        "      # Convert SVG to PNG\n",
        "      renderPM.drawToFile(drawing, png_file_name, fmt=\"PNG\")\n",
        "    \n",
        "    # Pass to Google cloud API\n",
        "    txt_file_path = Path(input.split(\".\")[0] + \".txt\")\n",
        "    detect_text(png_file_name, txt_file_path)\n",
        "\n",
        "\n",
        "svg_to_txt('sample_file.svg')\n"
      ]
    }
  ],
  "metadata": {
    "colab": {
      "provenance": [],
      "mount_file_id": "1aQllfSHLuUyrZvm1lkFDYB_Dp99x23EU",
      "authorship_tag": "ABX9TyNQ4egsi+8LQ8UoWg5SBXDq",
      "include_colab_link": true
    },
    "kernelspec": {
      "display_name": "Python 3",
      "name": "python3"
    },
    "language_info": {
      "name": "python"
    }
  },
  "nbformat": 4,
  "nbformat_minor": 0
}